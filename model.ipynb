{
 "cells": [
  {
   "cell_type": "code",
   "execution_count": 6,
   "metadata": {},
   "outputs": [],
   "source": [
    "import pandas as pd\n",
    "import numpy as np\n",
    "import yfinance as yf\n",
    "import matplotlib.pyplot as plt\n",
    "import seaborn as sns\n",
    "import plotly.express as px\n",
    "from sklearn.preprocessing import StandardScaler\n",
    "from sklearn.cluster import AgglomerativeClustering, DBSCAN\n",
    "from sklearn.mixture import GaussianMixture\n",
    "from scipy.cluster.hierarchy import dendrogram, linkage\n",
    "from scipy.optimize import minimize\n",
    "from datetime import datetime, timedelta"
   ]
  },
  {
   "cell_type": "code",
   "execution_count": 8,
   "metadata": {},
   "outputs": [
    {
     "name": "stdout",
     "output_type": "stream",
     "text": [
      "Numpy version: 2.0.2\n",
      "Scipy version: 1.13.1\n",
      "Scikit-learn version: 1.6.1\n"
     ]
    }
   ],
   "source": [
    "import numpy as np\n",
    "import scipy\n",
    "import sklearn\n",
    "\n",
    "print(\"Numpy version:\", np.__version__)\n",
    "print(\"Scipy version:\", scipy.__version__)\n",
    "print(\"Scikit-learn version:\", sklearn.__version__)\n"
   ]
  },
  {
   "cell_type": "code",
   "execution_count": 11,
   "metadata": {},
   "outputs": [
    {
     "name": "stderr",
     "output_type": "stream",
     "text": [
      "Could not get exchangeTimezoneName for ticker 'ETR' reason: 'chart'\n",
      "$ETR: possibly delisted; no timezone found\n"
     ]
    },
    {
     "name": "stdout",
     "output_type": "stream",
     "text": [
      "Skipping ETR: No data found.\n"
     ]
    },
    {
     "name": "stderr",
     "output_type": "stream",
     "text": [
      "$HWM: possibly delisted; no price data found  (1d 2018-01-01 -> 2025-02-09)\n"
     ]
    },
    {
     "name": "stdout",
     "output_type": "stream",
     "text": [
      "Skipping HWM: No data found.\n"
     ]
    },
    {
     "name": "stderr",
     "output_type": "stream",
     "text": [
      "$J: possibly delisted; no price data found  (1d 2018-01-01 -> 2025-02-09)\n"
     ]
    },
    {
     "name": "stdout",
     "output_type": "stream",
     "text": [
      "Skipping J: No data found.\n"
     ]
    },
    {
     "name": "stderr",
     "output_type": "stream",
     "text": [
      "$LEN: possibly delisted; no price data found  (1d 2018-01-01 -> 2025-02-09)\n"
     ]
    },
    {
     "name": "stdout",
     "output_type": "stream",
     "text": [
      "Skipping LEN: No data found.\n"
     ]
    },
    {
     "name": "stderr",
     "output_type": "stream",
     "text": [
      "[*********************100%***********************]  499 of 499 completed\n"
     ]
    },
    {
     "name": "stdout",
     "output_type": "stream",
     "text": [
      "Warning: 'Adj Close' column not found in data. Returning raw data.\n",
      "Price           Close                                                   \\\n",
      "Ticker              A       AAPL       ABBV ABNB        ABT       ACGL   \n",
      "Date                                                                     \n",
      "2018-01-02  64.180229  40.524342  71.669937  NaN  51.776566  27.988113   \n",
      "2018-01-03  65.813217  40.517292  72.791458  NaN  51.891056  28.013470   \n",
      "2018-01-04  65.319550  40.705490  72.376343  NaN  51.802982  28.118069   \n",
      "2018-01-05  66.363876  41.168938  73.636269  NaN  51.952717  28.007132   \n",
      "2018-01-08  66.506332  41.016026  72.456459  NaN  51.802982  28.010302   \n",
      "\n",
      "Price                                                     ...  Volume  \\\n",
      "Ticker             ACN        ADBE        ADI        ADM  ...     WTW   \n",
      "Date                                                      ...           \n",
      "2018-01-02  138.659622  177.699997  79.129036  32.879116  ...  817700   \n",
      "2018-01-03  139.299576  181.039993  80.110710  32.624870  ...  771200   \n",
      "2018-01-04  140.948990  183.220001  80.023064  33.174362  ...  800900   \n",
      "2018-01-05  142.111755  185.339996  80.347374  32.952927  ...  646700   \n",
      "2018-01-08  143.247330  185.039993  80.487595  32.879116  ...  632700   \n",
      "\n",
      "Price                                                                      \\\n",
      "Ticker           WY     WYNN      XEL       XOM     XYL      YUM      ZBH   \n",
      "Date                                                                        \n",
      "2018-01-02  3144000  2581200  2443400  11469300  877800  1747800  1818259   \n",
      "2018-01-03  2922800  3530900  4114900  13957700  778800  2554900  1368664   \n",
      "2018-01-04  2727800  2708800  2807000  10863000  796500  1971200  1105396   \n",
      "2018-01-05  2924800  2186600  3728000  11047600  666800  1927100  1095302   \n",
      "2018-01-08  2760800  1803800  3837600  10927100  554700  1599400  1286985   \n",
      "\n",
      "Price                        \n",
      "Ticker        ZBRA      ZTS  \n",
      "Date                         \n",
      "2018-01-02  310600  2135600  \n",
      "2018-01-03  253000  2328200  \n",
      "2018-01-04  435200  2534000  \n",
      "2018-01-05  301800  2166100  \n",
      "2018-01-08  218600  3631400  \n",
      "\n",
      "[5 rows x 2495 columns]\n"
     ]
    }
   ],
   "source": [
    "# ==========================\n",
    "# Step 1: Data Collection (Live Data Integration)\n",
    "# ==========================\n",
    "\n",
    "# def fetch_sp500_tickers():\n",
    "#     url = 'https://en.wikipedia.org/wiki/List_of_S%26P_500_companies'\n",
    "#     sp500_table = pd.read_html(url)[0]\n",
    "#     return sp500_table[['Symbol', 'GICS Sector']]\n",
    "\n",
    "# def fetch_stock_data(tickers, start_date, end_date):\n",
    "#     data = yf.download(tickers, start=start_date, end=end_date)['Adj Close']\n",
    "#     return data.dropna(axis=1)\n",
    "\n",
    "# sp500_companies = fetch_sp500_tickers()\n",
    "# tickers = sp500_companies['Symbol'].tolist()\n",
    "\n",
    "# start_date = \"2018-01-01\"\n",
    "# end_date = datetime.today().strftime('%Y-%m-%d')  # Get latest available data\n",
    "# data = fetch_stock_data(tickers, start_date, end_date)\n",
    "\n",
    "\n",
    "# from datetime import datetime\n",
    "# import yfinance as yf\n",
    "# import pandas as pd\n",
    "\n",
    "# import pandas as pd\n",
    "# import yfinance as yf\n",
    "# from datetime import datetime\n",
    "\n",
    "def fetch_sp500_tickers():\n",
    "    \"\"\"Fetch S&P 500 tickers from Wikipedia.\"\"\"\n",
    "    url = 'https://en.wikipedia.org/wiki/List_of_S%26P_500_companies'\n",
    "    sp500_table = pd.read_html(url)[0]\n",
    "    return sp500_table[['Symbol', 'GICS Sector']]\n",
    "\n",
    "def clean_tickers(tickers):\n",
    "    \"\"\"Fix tickers with dot notation for Yahoo Finance.\"\"\"\n",
    "    return [t.replace('.', '-') for t in tickers]  # BRK.B → BRK-B\n",
    "\n",
    "def filter_valid_tickers(tickers, start_date, end_date):\n",
    "    \"\"\"Check which tickers have valid data on Yahoo Finance.\"\"\"\n",
    "    valid_tickers = []\n",
    "    for ticker in tickers:\n",
    "        try:\n",
    "            data = yf.Ticker(ticker).history(start=start_date, end=end_date)\n",
    "            if not data.empty:\n",
    "                valid_tickers.append(ticker)\n",
    "            else:\n",
    "                print(f\"Skipping {ticker}: No data found.\")\n",
    "        except Exception as e:\n",
    "            print(f\"Skipping {ticker}: {e}\")\n",
    "    return valid_tickers\n",
    "\n",
    "def fetch_stock_data(tickers, start_date, end_date):\n",
    "    \"\"\"Download stock data for valid tickers.\"\"\"\n",
    "    data = yf.download(tickers, start=start_date, end=end_date)\n",
    "    \n",
    "    # Check if 'Adj Close' exists in the returned data\n",
    "    if 'Adj Close' in data:\n",
    "        return data['Adj Close'].dropna(axis=1)  # Remove columns with NaN\n",
    "    else:\n",
    "        print(\"Warning: 'Adj Close' column not found in data. Returning raw data.\")\n",
    "        return data  # Return the whole DataFrame for debugging\n",
    "\n",
    "# Fetch tickers and clean them\n",
    "sp500_companies = fetch_sp500_tickers()\n",
    "tickers = clean_tickers(sp500_companies['Symbol'].tolist())\n",
    "\n",
    "# Define date range\n",
    "start_date = \"2018-01-01\"\n",
    "end_date = datetime.today().strftime('%Y-%m-%d')\n",
    "\n",
    "# Validate tickers and fetch data\n",
    "valid_tickers = filter_valid_tickers(tickers, start_date, end_date)\n",
    "data = fetch_stock_data(valid_tickers, start_date, end_date)\n",
    "\n",
    "# Display the first few rows\n",
    "print(data.head())\n"
   ]
  },
  {
   "cell_type": "code",
   "execution_count": null,
   "metadata": {},
   "outputs": [
    {
     "name": "stderr",
     "output_type": "stream",
     "text": [
      "C:\\Users\\bhavy\\AppData\\Local\\Temp\\ipykernel_36620\\392514591.py:6: FutureWarning: The default fill_method='pad' in DataFrame.pct_change is deprecated and will be removed in a future version. Either fill in any non-leading NA values prior to calling pct_change or specify 'fill_method=None' to not fill NA values.\n",
      "  returns = data.pct_change().dropna()\n"
     ]
    },
    {
     "name": "stdout",
     "output_type": "stream",
     "text": [
      "              mean_return  volatility  cumulative_return  sharpe_ratio  \\\n",
      "Price Ticker                                                             \n",
      "Close A         -0.461323   -0.489201          -0.067621     -0.047251   \n",
      "      AAPL      -0.488133   -0.499602           1.201692     -0.772085   \n",
      "      ABBV      -0.457299   -0.487787           0.082550     -0.036496   \n",
      "      ABT       -0.443102   -0.508513           0.019517      0.721704   \n",
      "      ACGL      -0.487660   -0.486642           0.340338     -0.767860   \n",
      "\n",
      "              sortino_ratio  max_drawdown    var_95      beta  liquidity  \n",
      "Price Ticker                                                              \n",
      "Close A           -0.229715      0.805469  0.505174 -0.469136  -0.115417  \n",
      "      AAPL        -0.741814      0.993460  0.484087 -0.464818  -0.115415  \n",
      "      ABBV        -0.421039      0.700538  0.526798 -0.467043  -0.115417  \n",
      "      ABT          0.235046      1.200175  0.542720 -0.476886  -0.115418  \n",
      "      ACGL        -0.737378      0.310649  0.492774 -0.461966  -0.115422  \n"
     ]
    }
   ],
   "source": [
    "# import numpy as np\n",
    "# import pandas as pd\n",
    "# from sklearn.preprocessing import StandardScaler\n",
    "# ==========================\n",
    "# Step 2: Feature Engineering (Risk, Liquidity & Macro)\n",
    "# ==========================\n",
    "# Compute returns and volatility\n",
    "returns = data.pct_change().dropna()\n",
    "volatility = returns.rolling(window=20).std().dropna()\n",
    "\n",
    "def compute_beta(stock_returns, market_returns):\n",
    "    \"\"\"Calculate Beta for each stock.\"\"\"\n",
    "    if stock_returns.isna().sum() > 0 or market_returns.isna().sum() > 0:\n",
    "        return np.nan  # Handle missing values\n",
    "    \n",
    "    covariance = np.cov(stock_returns.dropna(), market_returns.dropna())[0, 1]\n",
    "    market_variance = np.var(market_returns.dropna())\n",
    "\n",
    "    return covariance / market_variance if market_variance > 0 else np.nan\n",
    "\n",
    "# Approximate S&P 500 market return\n",
    "sp500_returns = returns.mean(axis=1)\n",
    "\n",
    "# Compute feature matrix\n",
    "features = pd.DataFrame({\n",
    "    \"mean_return\": returns.mean() * 252,\n",
    "    \"volatility\": volatility.mean(),\n",
    "    \"cumulative_return\": (data.iloc[-1] / data.iloc[0]) - 1,\n",
    "    \"sharpe_ratio\": returns.mean() / (returns.std() + 1e-8),  # Avoid div-by-zero\n",
    "    \"sortino_ratio\": returns.mean() / (returns[returns < 0].std() + 1e-8),  # Avoid div-by-zero\n",
    "    \"max_drawdown\": (data / data.cummax() - 1).min(),\n",
    "    \"var_95\": returns.quantile(0.05),\n",
    "    \"beta\": [compute_beta(returns[ticker], sp500_returns) for ticker in returns.columns],\n",
    "    \"liquidity\": data.mean(),  # Approximate by average price\n",
    "})\n",
    "\n",
    "# Handle Inf and NaNs before scaling\n",
    "features.replace([np.inf, -np.inf], np.nan, inplace=True)  # Replace Inf with NaN\n",
    "features.dropna(inplace=True)  # Drop rows with NaN values\n",
    "\n",
    "# Standardize features\n",
    "scaler = StandardScaler()\n",
    "scaled_features = scaler.fit_transform(features)\n",
    "\n",
    "# Convert back to DataFrame\n",
    "features_scaled_df = pd.DataFrame(scaled_features, index=features.index, columns=features.columns)\n",
    "\n",
    "# Display first few rows\n",
    "print(features_scaled_df.head())\n"
   ]
  },
  {
   "cell_type": "code",
   "execution_count": 14,
   "metadata": {},
   "outputs": [
    {
     "name": "stdout",
     "output_type": "stream",
     "text": [
      "              mean_return  volatility  cumulative_return  sharpe_ratio  \\\n",
      "Price Ticker                                                             \n",
      "Close A         -0.461323   -0.489201          -0.067621     -0.047251   \n",
      "      AAPL      -0.488133   -0.499602           1.201692     -0.772085   \n",
      "      ABBV      -0.457299   -0.487787           0.082550     -0.036496   \n",
      "      ABT       -0.443102   -0.508513           0.019517      0.721704   \n",
      "      ACGL      -0.487660   -0.486642           0.340338     -0.767860   \n",
      "\n",
      "              sortino_ratio  max_drawdown    var_95      beta  liquidity  \\\n",
      "Price Ticker                                                               \n",
      "Close A           -0.229715      0.805469  0.505174 -0.469136  -0.115417   \n",
      "      AAPL        -0.741814      0.993460  0.484087 -0.464818  -0.115415   \n",
      "      ABBV        -0.421039      0.700538  0.526798 -0.467043  -0.115417   \n",
      "      ABT          0.235046      1.200175  0.542720 -0.476886  -0.115418   \n",
      "      ACGL        -0.737378      0.310649  0.492774 -0.461966  -0.115422   \n",
      "\n",
      "              hierarchical_cluster  gmm_cluster  dbscan_cluster  \n",
      "Price Ticker                                                     \n",
      "Close A                          3            6               0  \n",
      "      AAPL                       2            8               0  \n",
      "      ABBV                       3            2               0  \n",
      "      ABT                        0            2               0  \n",
      "      ACGL                       3            6               0  \n"
     ]
    }
   ],
   "source": [
    "# from sklearn.cluster import AgglomerativeClustering, DBSCAN\n",
    "# from sklearn.mixture import GaussianMixture\n",
    "# ==========================\n",
    "# Step 3: Advanced Clustering (Hierarchical + GMM + DBSCAN)\n",
    "# ==========================\n",
    "# Use scaled features for clustering\n",
    "X_scaled = features_scaled_df.copy()\n",
    "\n",
    "# Hierarchical Clustering\n",
    "hierarchical = AgglomerativeClustering(n_clusters=10, linkage='ward')\n",
    "X_scaled['hierarchical_cluster'] = hierarchical.fit_predict(features_scaled_df)\n",
    "\n",
    "# Gaussian Mixture Model (GMM)\n",
    "gmm = GaussianMixture(n_components=10, random_state=42)\n",
    "X_scaled['gmm_cluster'] = gmm.fit_predict(features_scaled_df)\n",
    "\n",
    "# DBSCAN Clustering (Density-based)\n",
    "dbscan = DBSCAN(eps=1.5, min_samples=5)\n",
    "X_scaled['dbscan_cluster'] = dbscan.fit_predict(features_scaled_df)\n",
    "\n",
    "# Save Clustering Data\n",
    "X_scaled.to_csv(\"advanced_clustered_data.csv\")\n",
    "\n",
    "# Display first few rows of results\n",
    "print(X_scaled.head())\n"
   ]
  },
  {
   "cell_type": "code",
   "execution_count": null,
   "metadata": {},
   "outputs": [
    {
     "ename": "KeyboardInterrupt",
     "evalue": "",
     "output_type": "error",
     "traceback": [
      "\u001b[1;31m---------------------------------------------------------------------------\u001b[0m",
      "\u001b[1;31mKeyboardInterrupt\u001b[0m                         Traceback (most recent call last)",
      "Cell \u001b[1;32mIn[15], line 37\u001b[0m\n\u001b[0;32m     34\u001b[0m cluster_returns \u001b[38;5;241m=\u001b[39m returns[selected_stocks]  \u001b[38;5;66;03m# Use only clustered stocks\u001b[39;00m\n\u001b[0;32m     36\u001b[0m \u001b[38;5;66;03m# Optimize portfolio for selected cluster\u001b[39;00m\n\u001b[1;32m---> 37\u001b[0m optimized_weights \u001b[38;5;241m=\u001b[39m \u001b[43moptimize_portfolio\u001b[49m\u001b[43m(\u001b[49m\u001b[43mcluster_returns\u001b[49m\u001b[43m)\u001b[49m\n\u001b[0;32m     39\u001b[0m \u001b[38;5;66;03m# Display optimized portfolio weights\u001b[39;00m\n\u001b[0;32m     40\u001b[0m portfolio_allocation \u001b[38;5;241m=\u001b[39m pd\u001b[38;5;241m.\u001b[39mSeries(optimized_weights, index\u001b[38;5;241m=\u001b[39mcluster_returns\u001b[38;5;241m.\u001b[39mcolumns)\n",
      "Cell \u001b[1;32mIn[15], line 26\u001b[0m, in \u001b[0;36moptimize_portfolio\u001b[1;34m(returns)\u001b[0m\n\u001b[0;32m     23\u001b[0m bounds \u001b[38;5;241m=\u001b[39m [(\u001b[38;5;241m0\u001b[39m, \u001b[38;5;241m1\u001b[39m) \u001b[38;5;28;01mfor\u001b[39;00m _ \u001b[38;5;129;01min\u001b[39;00m \u001b[38;5;28mrange\u001b[39m(num_assets)]  \u001b[38;5;66;03m# Weight constraints (0 to 1)\u001b[39;00m\n\u001b[0;32m     24\u001b[0m constraints \u001b[38;5;241m=\u001b[39m {\u001b[38;5;124m'\u001b[39m\u001b[38;5;124mtype\u001b[39m\u001b[38;5;124m'\u001b[39m: \u001b[38;5;124m'\u001b[39m\u001b[38;5;124meq\u001b[39m\u001b[38;5;124m'\u001b[39m, \u001b[38;5;124m'\u001b[39m\u001b[38;5;124mfun\u001b[39m\u001b[38;5;124m'\u001b[39m: \u001b[38;5;28;01mlambda\u001b[39;00m w: np\u001b[38;5;241m.\u001b[39msum(w) \u001b[38;5;241m-\u001b[39m \u001b[38;5;241m1\u001b[39m}  \u001b[38;5;66;03m# Sum of weights must be 1\u001b[39;00m\n\u001b[1;32m---> 26\u001b[0m optimized \u001b[38;5;241m=\u001b[39m \u001b[43mminimize\u001b[49m\u001b[43m(\u001b[49m\u001b[43mminimize_sharpe\u001b[49m\u001b[43m,\u001b[49m\u001b[43m \u001b[49m\u001b[43minitial_weights\u001b[49m\u001b[43m,\u001b[49m\u001b[43m \u001b[49m\u001b[43margs\u001b[49m\u001b[38;5;241;43m=\u001b[39;49m\u001b[43m(\u001b[49m\u001b[43mreturns\u001b[49m\u001b[43m,\u001b[49m\u001b[43m)\u001b[49m\u001b[43m,\u001b[49m\u001b[43m \u001b[49m\n\u001b[0;32m     27\u001b[0m \u001b[43m                     \u001b[49m\u001b[43mmethod\u001b[49m\u001b[38;5;241;43m=\u001b[39;49m\u001b[38;5;124;43m'\u001b[39;49m\u001b[38;5;124;43mSLSQP\u001b[39;49m\u001b[38;5;124;43m'\u001b[39;49m\u001b[43m,\u001b[49m\u001b[43m \u001b[49m\u001b[43mbounds\u001b[49m\u001b[38;5;241;43m=\u001b[39;49m\u001b[43mbounds\u001b[49m\u001b[43m,\u001b[49m\u001b[43m \u001b[49m\u001b[43mconstraints\u001b[49m\u001b[38;5;241;43m=\u001b[39;49m\u001b[43mconstraints\u001b[49m\u001b[43m)\u001b[49m\n\u001b[0;32m     29\u001b[0m \u001b[38;5;28;01mreturn\u001b[39;00m optimized\u001b[38;5;241m.\u001b[39mx \u001b[38;5;28;01mif\u001b[39;00m optimized\u001b[38;5;241m.\u001b[39msuccess \u001b[38;5;28;01melse\u001b[39;00m \u001b[38;5;28;01mNone\u001b[39;00m\n",
      "File \u001b[1;32mc:\\Users\\bhavy\\.conda\\envs\\my_env\\lib\\site-packages\\scipy\\optimize\\_minimize.py:722\u001b[0m, in \u001b[0;36mminimize\u001b[1;34m(fun, x0, args, method, jac, hess, hessp, bounds, constraints, tol, callback, options)\u001b[0m\n\u001b[0;32m    719\u001b[0m     res \u001b[38;5;241m=\u001b[39m _minimize_cobyla(fun, x0, args, constraints, callback\u001b[38;5;241m=\u001b[39mcallback,\n\u001b[0;32m    720\u001b[0m                            bounds\u001b[38;5;241m=\u001b[39mbounds, \u001b[38;5;241m*\u001b[39m\u001b[38;5;241m*\u001b[39moptions)\n\u001b[0;32m    721\u001b[0m \u001b[38;5;28;01melif\u001b[39;00m meth \u001b[38;5;241m==\u001b[39m \u001b[38;5;124m'\u001b[39m\u001b[38;5;124mslsqp\u001b[39m\u001b[38;5;124m'\u001b[39m:\n\u001b[1;32m--> 722\u001b[0m     res \u001b[38;5;241m=\u001b[39m _minimize_slsqp(fun, x0, args, jac, bounds,\n\u001b[0;32m    723\u001b[0m                           constraints, callback\u001b[38;5;241m=\u001b[39mcallback, \u001b[38;5;241m*\u001b[39m\u001b[38;5;241m*\u001b[39moptions)\n\u001b[0;32m    724\u001b[0m \u001b[38;5;28;01melif\u001b[39;00m meth \u001b[38;5;241m==\u001b[39m \u001b[38;5;124m'\u001b[39m\u001b[38;5;124mtrust-constr\u001b[39m\u001b[38;5;124m'\u001b[39m:\n\u001b[0;32m    725\u001b[0m     res \u001b[38;5;241m=\u001b[39m _minimize_trustregion_constr(fun, x0, args, jac, hess, hessp,\n\u001b[0;32m    726\u001b[0m                                        bounds, constraints,\n\u001b[0;32m    727\u001b[0m                                        callback\u001b[38;5;241m=\u001b[39mcallback, \u001b[38;5;241m*\u001b[39m\u001b[38;5;241m*\u001b[39moptions)\n",
      "File \u001b[1;32mc:\\Users\\bhavy\\.conda\\envs\\my_env\\lib\\site-packages\\scipy\\optimize\\_slsqp_py.py:441\u001b[0m, in \u001b[0;36m_minimize_slsqp\u001b[1;34m(func, x0, args, jac, bounds, constraints, maxiter, ftol, iprint, disp, eps, callback, finite_diff_rel_step, **unknown_options)\u001b[0m\n\u001b[0;32m    438\u001b[0m     c \u001b[38;5;241m=\u001b[39m _eval_constraint(x, cons)\n\u001b[0;32m    440\u001b[0m \u001b[38;5;28;01mif\u001b[39;00m mode \u001b[38;5;241m==\u001b[39m \u001b[38;5;241m-\u001b[39m\u001b[38;5;241m1\u001b[39m:  \u001b[38;5;66;03m# gradient evaluation required\u001b[39;00m\n\u001b[1;32m--> 441\u001b[0m     g \u001b[38;5;241m=\u001b[39m append(\u001b[43mwrapped_grad\u001b[49m\u001b[43m(\u001b[49m\u001b[43mx\u001b[49m\u001b[43m)\u001b[49m, \u001b[38;5;241m0.0\u001b[39m)\n\u001b[0;32m    442\u001b[0m     a \u001b[38;5;241m=\u001b[39m _eval_con_normals(x, cons, la, n, m, meq, mieq)\n\u001b[0;32m    444\u001b[0m \u001b[38;5;28;01mif\u001b[39;00m majiter \u001b[38;5;241m>\u001b[39m majiter_prev:\n\u001b[0;32m    445\u001b[0m     \u001b[38;5;66;03m# call callback if major iteration has incremented\u001b[39;00m\n",
      "File \u001b[1;32mc:\\Users\\bhavy\\.conda\\envs\\my_env\\lib\\site-packages\\scipy\\optimize\\_optimize.py:302\u001b[0m, in \u001b[0;36m_clip_x_for_func.<locals>.eval\u001b[1;34m(x)\u001b[0m\n\u001b[0;32m    300\u001b[0m \u001b[38;5;28;01mdef\u001b[39;00m\u001b[38;5;250m \u001b[39m\u001b[38;5;21meval\u001b[39m(x):\n\u001b[0;32m    301\u001b[0m     x \u001b[38;5;241m=\u001b[39m _check_clip_x(x, bounds)\n\u001b[1;32m--> 302\u001b[0m     \u001b[38;5;28;01mreturn\u001b[39;00m \u001b[43mfunc\u001b[49m\u001b[43m(\u001b[49m\u001b[43mx\u001b[49m\u001b[43m)\u001b[49m\n",
      "File \u001b[1;32mc:\\Users\\bhavy\\.conda\\envs\\my_env\\lib\\site-packages\\scipy\\optimize\\_differentiable_functions.py:284\u001b[0m, in \u001b[0;36mScalarFunction.grad\u001b[1;34m(self, x)\u001b[0m\n\u001b[0;32m    282\u001b[0m \u001b[38;5;28;01mif\u001b[39;00m \u001b[38;5;129;01mnot\u001b[39;00m np\u001b[38;5;241m.\u001b[39marray_equal(x, \u001b[38;5;28mself\u001b[39m\u001b[38;5;241m.\u001b[39mx):\n\u001b[0;32m    283\u001b[0m     \u001b[38;5;28mself\u001b[39m\u001b[38;5;241m.\u001b[39m_update_x_impl(x)\n\u001b[1;32m--> 284\u001b[0m \u001b[38;5;28;43mself\u001b[39;49m\u001b[38;5;241;43m.\u001b[39;49m\u001b[43m_update_grad\u001b[49m\u001b[43m(\u001b[49m\u001b[43m)\u001b[49m\n\u001b[0;32m    285\u001b[0m \u001b[38;5;28;01mreturn\u001b[39;00m \u001b[38;5;28mself\u001b[39m\u001b[38;5;241m.\u001b[39mg\n",
      "File \u001b[1;32mc:\\Users\\bhavy\\.conda\\envs\\my_env\\lib\\site-packages\\scipy\\optimize\\_differentiable_functions.py:267\u001b[0m, in \u001b[0;36mScalarFunction._update_grad\u001b[1;34m(self)\u001b[0m\n\u001b[0;32m    265\u001b[0m \u001b[38;5;28;01mdef\u001b[39;00m\u001b[38;5;250m \u001b[39m\u001b[38;5;21m_update_grad\u001b[39m(\u001b[38;5;28mself\u001b[39m):\n\u001b[0;32m    266\u001b[0m     \u001b[38;5;28;01mif\u001b[39;00m \u001b[38;5;129;01mnot\u001b[39;00m \u001b[38;5;28mself\u001b[39m\u001b[38;5;241m.\u001b[39mg_updated:\n\u001b[1;32m--> 267\u001b[0m         \u001b[38;5;28;43mself\u001b[39;49m\u001b[38;5;241;43m.\u001b[39;49m\u001b[43m_update_grad_impl\u001b[49m\u001b[43m(\u001b[49m\u001b[43m)\u001b[49m\n\u001b[0;32m    268\u001b[0m         \u001b[38;5;28mself\u001b[39m\u001b[38;5;241m.\u001b[39mg_updated \u001b[38;5;241m=\u001b[39m \u001b[38;5;28;01mTrue\u001b[39;00m\n",
      "File \u001b[1;32mc:\\Users\\bhavy\\.conda\\envs\\my_env\\lib\\site-packages\\scipy\\optimize\\_differentiable_functions.py:181\u001b[0m, in \u001b[0;36mScalarFunction.__init__.<locals>.update_grad\u001b[1;34m()\u001b[0m\n\u001b[0;32m    179\u001b[0m \u001b[38;5;28mself\u001b[39m\u001b[38;5;241m.\u001b[39m_update_fun()\n\u001b[0;32m    180\u001b[0m \u001b[38;5;28mself\u001b[39m\u001b[38;5;241m.\u001b[39mngev \u001b[38;5;241m+\u001b[39m\u001b[38;5;241m=\u001b[39m \u001b[38;5;241m1\u001b[39m\n\u001b[1;32m--> 181\u001b[0m \u001b[38;5;28mself\u001b[39m\u001b[38;5;241m.\u001b[39mg \u001b[38;5;241m=\u001b[39m approx_derivative(fun_wrapped, \u001b[38;5;28mself\u001b[39m\u001b[38;5;241m.\u001b[39mx, f0\u001b[38;5;241m=\u001b[39m\u001b[38;5;28mself\u001b[39m\u001b[38;5;241m.\u001b[39mf,\n\u001b[0;32m    182\u001b[0m                            \u001b[38;5;241m*\u001b[39m\u001b[38;5;241m*\u001b[39mfinite_diff_options)\n",
      "File \u001b[1;32mc:\\Users\\bhavy\\.conda\\envs\\my_env\\lib\\site-packages\\scipy\\optimize\\_numdiff.py:519\u001b[0m, in \u001b[0;36mapprox_derivative\u001b[1;34m(fun, x0, method, rel_step, abs_step, f0, bounds, sparsity, as_linear_operator, args, kwargs)\u001b[0m\n\u001b[0;32m    516\u001b[0m     use_one_sided \u001b[38;5;241m=\u001b[39m \u001b[38;5;28;01mFalse\u001b[39;00m\n\u001b[0;32m    518\u001b[0m \u001b[38;5;28;01mif\u001b[39;00m sparsity \u001b[38;5;129;01mis\u001b[39;00m \u001b[38;5;28;01mNone\u001b[39;00m:\n\u001b[1;32m--> 519\u001b[0m     \u001b[38;5;28;01mreturn\u001b[39;00m \u001b[43m_dense_difference\u001b[49m\u001b[43m(\u001b[49m\u001b[43mfun_wrapped\u001b[49m\u001b[43m,\u001b[49m\u001b[43m \u001b[49m\u001b[43mx0\u001b[49m\u001b[43m,\u001b[49m\u001b[43m \u001b[49m\u001b[43mf0\u001b[49m\u001b[43m,\u001b[49m\u001b[43m \u001b[49m\u001b[43mh\u001b[49m\u001b[43m,\u001b[49m\n\u001b[0;32m    520\u001b[0m \u001b[43m                             \u001b[49m\u001b[43muse_one_sided\u001b[49m\u001b[43m,\u001b[49m\u001b[43m \u001b[49m\u001b[43mmethod\u001b[49m\u001b[43m)\u001b[49m\n\u001b[0;32m    521\u001b[0m \u001b[38;5;28;01melse\u001b[39;00m:\n\u001b[0;32m    522\u001b[0m     \u001b[38;5;28;01mif\u001b[39;00m \u001b[38;5;129;01mnot\u001b[39;00m issparse(sparsity) \u001b[38;5;129;01mand\u001b[39;00m \u001b[38;5;28mlen\u001b[39m(sparsity) \u001b[38;5;241m==\u001b[39m \u001b[38;5;241m2\u001b[39m:\n",
      "File \u001b[1;32mc:\\Users\\bhavy\\.conda\\envs\\my_env\\lib\\site-packages\\scipy\\optimize\\_numdiff.py:590\u001b[0m, in \u001b[0;36m_dense_difference\u001b[1;34m(fun, x0, f0, h, use_one_sided, method)\u001b[0m\n\u001b[0;32m    588\u001b[0m     x \u001b[38;5;241m=\u001b[39m x0 \u001b[38;5;241m+\u001b[39m h_vecs[i]\n\u001b[0;32m    589\u001b[0m     dx \u001b[38;5;241m=\u001b[39m x[i] \u001b[38;5;241m-\u001b[39m x0[i]  \u001b[38;5;66;03m# Recompute dx as exactly representable number.\u001b[39;00m\n\u001b[1;32m--> 590\u001b[0m     df \u001b[38;5;241m=\u001b[39m \u001b[43mfun\u001b[49m\u001b[43m(\u001b[49m\u001b[43mx\u001b[49m\u001b[43m)\u001b[49m \u001b[38;5;241m-\u001b[39m f0\n\u001b[0;32m    591\u001b[0m \u001b[38;5;28;01melif\u001b[39;00m method \u001b[38;5;241m==\u001b[39m \u001b[38;5;124m'\u001b[39m\u001b[38;5;124m3-point\u001b[39m\u001b[38;5;124m'\u001b[39m \u001b[38;5;129;01mand\u001b[39;00m use_one_sided[i]:\n\u001b[0;32m    592\u001b[0m     x1 \u001b[38;5;241m=\u001b[39m x0 \u001b[38;5;241m+\u001b[39m h_vecs[i]\n",
      "File \u001b[1;32mc:\\Users\\bhavy\\.conda\\envs\\my_env\\lib\\site-packages\\scipy\\optimize\\_numdiff.py:470\u001b[0m, in \u001b[0;36mapprox_derivative.<locals>.fun_wrapped\u001b[1;34m(x)\u001b[0m\n\u001b[0;32m    467\u001b[0m \u001b[38;5;28;01mif\u001b[39;00m xp\u001b[38;5;241m.\u001b[39misdtype(x\u001b[38;5;241m.\u001b[39mdtype, \u001b[38;5;124m\"\u001b[39m\u001b[38;5;124mreal floating\u001b[39m\u001b[38;5;124m\"\u001b[39m):\n\u001b[0;32m    468\u001b[0m     x \u001b[38;5;241m=\u001b[39m xp\u001b[38;5;241m.\u001b[39mastype(x, x0\u001b[38;5;241m.\u001b[39mdtype)\n\u001b[1;32m--> 470\u001b[0m f \u001b[38;5;241m=\u001b[39m np\u001b[38;5;241m.\u001b[39matleast_1d(fun(x, \u001b[38;5;241m*\u001b[39margs, \u001b[38;5;241m*\u001b[39m\u001b[38;5;241m*\u001b[39mkwargs))\n\u001b[0;32m    471\u001b[0m \u001b[38;5;28;01mif\u001b[39;00m f\u001b[38;5;241m.\u001b[39mndim \u001b[38;5;241m>\u001b[39m \u001b[38;5;241m1\u001b[39m:\n\u001b[0;32m    472\u001b[0m     \u001b[38;5;28;01mraise\u001b[39;00m \u001b[38;5;167;01mRuntimeError\u001b[39;00m(\u001b[38;5;124m\"\u001b[39m\u001b[38;5;124m`fun` return value has \u001b[39m\u001b[38;5;124m\"\u001b[39m\n\u001b[0;32m    473\u001b[0m                        \u001b[38;5;124m\"\u001b[39m\u001b[38;5;124mmore than 1 dimension.\u001b[39m\u001b[38;5;124m\"\u001b[39m)\n",
      "File \u001b[1;32mc:\\Users\\bhavy\\.conda\\envs\\my_env\\lib\\site-packages\\scipy\\optimize\\_differentiable_functions.py:145\u001b[0m, in \u001b[0;36mScalarFunction.__init__.<locals>.fun_wrapped\u001b[1;34m(x)\u001b[0m\n\u001b[0;32m    141\u001b[0m \u001b[38;5;28mself\u001b[39m\u001b[38;5;241m.\u001b[39mnfev \u001b[38;5;241m+\u001b[39m\u001b[38;5;241m=\u001b[39m \u001b[38;5;241m1\u001b[39m\n\u001b[0;32m    142\u001b[0m \u001b[38;5;66;03m# Send a copy because the user may overwrite it.\u001b[39;00m\n\u001b[0;32m    143\u001b[0m \u001b[38;5;66;03m# Overwriting results in undefined behaviour because\u001b[39;00m\n\u001b[0;32m    144\u001b[0m \u001b[38;5;66;03m# fun(self.x) will change self.x, with the two no longer linked.\u001b[39;00m\n\u001b[1;32m--> 145\u001b[0m fx \u001b[38;5;241m=\u001b[39m \u001b[43mfun\u001b[49m\u001b[43m(\u001b[49m\u001b[43mnp\u001b[49m\u001b[38;5;241;43m.\u001b[39;49m\u001b[43mcopy\u001b[49m\u001b[43m(\u001b[49m\u001b[43mx\u001b[49m\u001b[43m)\u001b[49m\u001b[43m,\u001b[49m\u001b[43m \u001b[49m\u001b[38;5;241;43m*\u001b[39;49m\u001b[43margs\u001b[49m\u001b[43m)\u001b[49m\n\u001b[0;32m    146\u001b[0m \u001b[38;5;66;03m# Make sure the function returns a true scalar\u001b[39;00m\n\u001b[0;32m    147\u001b[0m \u001b[38;5;28;01mif\u001b[39;00m \u001b[38;5;129;01mnot\u001b[39;00m np\u001b[38;5;241m.\u001b[39misscalar(fx):\n",
      "Cell \u001b[1;32mIn[15], line 15\u001b[0m, in \u001b[0;36mminimize_sharpe\u001b[1;34m(weights, returns)\u001b[0m\n\u001b[0;32m     13\u001b[0m \u001b[38;5;28;01mdef\u001b[39;00m\u001b[38;5;250m \u001b[39m\u001b[38;5;21mminimize_sharpe\u001b[39m(weights, returns):\n\u001b[0;32m     14\u001b[0m \u001b[38;5;250m    \u001b[39m\u001b[38;5;124;03m\"\"\"Objective function to minimize negative Sharpe ratio.\"\"\"\u001b[39;00m\n\u001b[1;32m---> 15\u001b[0m     \u001b[38;5;28;01mreturn\u001b[39;00m \u001b[38;5;241m-\u001b[39m\u001b[43mportfolio_performance\u001b[49m\u001b[43m(\u001b[49m\u001b[43mweights\u001b[49m\u001b[43m,\u001b[49m\u001b[43m \u001b[49m\u001b[43mreturns\u001b[49m\u001b[43m)\u001b[49m[\u001b[38;5;241m2\u001b[39m]\n",
      "Cell \u001b[1;32mIn[15], line 7\u001b[0m, in \u001b[0;36mportfolio_performance\u001b[1;34m(weights, returns)\u001b[0m\n\u001b[0;32m      5\u001b[0m \u001b[38;5;250m\u001b[39m\u001b[38;5;124;03m\"\"\"Calculate portfolio return, volatility, and Sharpe ratio.\"\"\"\u001b[39;00m\n\u001b[0;32m      6\u001b[0m portfolio_return \u001b[38;5;241m=\u001b[39m np\u001b[38;5;241m.\u001b[39msum(weights \u001b[38;5;241m*\u001b[39m returns\u001b[38;5;241m.\u001b[39mmean()) \u001b[38;5;241m*\u001b[39m \u001b[38;5;241m252\u001b[39m\n\u001b[1;32m----> 7\u001b[0m portfolio_volatility \u001b[38;5;241m=\u001b[39m np\u001b[38;5;241m.\u001b[39msqrt(np\u001b[38;5;241m.\u001b[39mdot(weights\u001b[38;5;241m.\u001b[39mT, np\u001b[38;5;241m.\u001b[39mdot(\u001b[43mreturns\u001b[49m\u001b[38;5;241;43m.\u001b[39;49m\u001b[43mcov\u001b[49m\u001b[43m(\u001b[49m\u001b[43m)\u001b[49m \u001b[38;5;241m*\u001b[39m \u001b[38;5;241m252\u001b[39m, weights)))\n\u001b[0;32m      9\u001b[0m \u001b[38;5;66;03m# Avoid division by zero\u001b[39;00m\n\u001b[0;32m     10\u001b[0m sharpe_ratio \u001b[38;5;241m=\u001b[39m portfolio_return \u001b[38;5;241m/\u001b[39m portfolio_volatility \u001b[38;5;28;01mif\u001b[39;00m portfolio_volatility \u001b[38;5;241m>\u001b[39m \u001b[38;5;241m0\u001b[39m \u001b[38;5;28;01melse\u001b[39;00m \u001b[38;5;241m0\u001b[39m\n",
      "File \u001b[1;32mc:\\Users\\bhavy\\.conda\\envs\\my_env\\lib\\site-packages\\pandas\\core\\frame.py:11211\u001b[0m, in \u001b[0;36mDataFrame.cov\u001b[1;34m(self, min_periods, ddof, numeric_only)\u001b[0m\n\u001b[0;32m  11209\u001b[0m         base_cov\u001b[38;5;241m.\u001b[39mfill(np\u001b[38;5;241m.\u001b[39mnan)\n\u001b[0;32m  11210\u001b[0m     \u001b[38;5;28;01melse\u001b[39;00m:\n\u001b[1;32m> 11211\u001b[0m         base_cov \u001b[38;5;241m=\u001b[39m \u001b[43mnp\u001b[49m\u001b[38;5;241;43m.\u001b[39;49m\u001b[43mcov\u001b[49m\u001b[43m(\u001b[49m\u001b[43mmat\u001b[49m\u001b[38;5;241;43m.\u001b[39;49m\u001b[43mT\u001b[49m\u001b[43m,\u001b[49m\u001b[43m \u001b[49m\u001b[43mddof\u001b[49m\u001b[38;5;241;43m=\u001b[39;49m\u001b[43mddof\u001b[49m\u001b[43m)\u001b[49m\n\u001b[0;32m  11212\u001b[0m     base_cov \u001b[38;5;241m=\u001b[39m base_cov\u001b[38;5;241m.\u001b[39mreshape((\u001b[38;5;28mlen\u001b[39m(cols), \u001b[38;5;28mlen\u001b[39m(cols)))\n\u001b[0;32m  11213\u001b[0m \u001b[38;5;28;01melse\u001b[39;00m:\n",
      "File \u001b[1;32mc:\\Users\\bhavy\\.conda\\envs\\my_env\\lib\\site-packages\\numpy\\lib\\_function_base_impl.py:2772\u001b[0m, in \u001b[0;36mcov\u001b[1;34m(m, y, rowvar, bias, ddof, fweights, aweights, dtype)\u001b[0m\n\u001b[0;32m   2770\u001b[0m \u001b[38;5;28;01melse\u001b[39;00m:\n\u001b[0;32m   2771\u001b[0m     X_T \u001b[38;5;241m=\u001b[39m (X\u001b[38;5;241m*\u001b[39mw)\u001b[38;5;241m.\u001b[39mT\n\u001b[1;32m-> 2772\u001b[0m c \u001b[38;5;241m=\u001b[39m \u001b[43mdot\u001b[49m\u001b[43m(\u001b[49m\u001b[43mX\u001b[49m\u001b[43m,\u001b[49m\u001b[43m \u001b[49m\u001b[43mX_T\u001b[49m\u001b[38;5;241;43m.\u001b[39;49m\u001b[43mconj\u001b[49m\u001b[43m(\u001b[49m\u001b[43m)\u001b[49m\u001b[43m)\u001b[49m\n\u001b[0;32m   2773\u001b[0m c \u001b[38;5;241m*\u001b[39m\u001b[38;5;241m=\u001b[39m np\u001b[38;5;241m.\u001b[39mtrue_divide(\u001b[38;5;241m1\u001b[39m, fact)\n\u001b[0;32m   2774\u001b[0m \u001b[38;5;28;01mreturn\u001b[39;00m c\u001b[38;5;241m.\u001b[39msqueeze()\n",
      "\u001b[1;31mKeyboardInterrupt\u001b[0m: "
     ]
    }
   ],
   "source": []
  }
 ],
 "metadata": {
  "kernelspec": {
   "display_name": "my_env",
   "language": "python",
   "name": "python3"
  },
  "language_info": {
   "codemirror_mode": {
    "name": "ipython",
    "version": 3
   },
   "file_extension": ".py",
   "mimetype": "text/x-python",
   "name": "python",
   "nbconvert_exporter": "python",
   "pygments_lexer": "ipython3",
   "version": "3.9.21"
  }
 },
 "nbformat": 4,
 "nbformat_minor": 2
}
