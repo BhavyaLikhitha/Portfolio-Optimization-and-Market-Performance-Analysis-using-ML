{
 "cells": [
  {
   "cell_type": "code",
   "execution_count": 1,
   "metadata": {},
   "outputs": [],
   "source": [
    "import pandas as pd\n",
    "import numpy as np\n",
    "import yfinance as yf\n",
    "import matplotlib.pyplot as plt\n",
    "import seaborn as sns\n",
    "import plotly.express as px\n",
    "from sklearn.preprocessing import StandardScaler\n",
    "from sklearn.cluster import AgglomerativeClustering, DBSCAN\n",
    "from sklearn.mixture import GaussianMixture\n",
    "from scipy.cluster.hierarchy import dendrogram, linkage\n",
    "from scipy.optimize import minimize\n",
    "from datetime import datetime"
   ]
  },
  {
   "cell_type": "code",
   "execution_count": 4,
   "metadata": {},
   "outputs": [
    {
     "name": "stderr",
     "output_type": "stream",
     "text": [
      "Could not get exchangeTimezoneName for ticker 'ETR' reason: 'chart'\n",
      "$ETR: possibly delisted; no timezone found\n"
     ]
    },
    {
     "name": "stdout",
     "output_type": "stream",
     "text": [
      "Skipping ETR: No data found.\n"
     ]
    },
    {
     "name": "stderr",
     "output_type": "stream",
     "text": [
      "$HWM: possibly delisted; no price data found  (1d 2018-01-01 -> 2025-02-09)\n"
     ]
    },
    {
     "name": "stdout",
     "output_type": "stream",
     "text": [
      "Skipping HWM: No data found.\n"
     ]
    },
    {
     "name": "stderr",
     "output_type": "stream",
     "text": [
      "$J: possibly delisted; no price data found  (1d 2018-01-01 -> 2025-02-09)\n"
     ]
    },
    {
     "name": "stdout",
     "output_type": "stream",
     "text": [
      "Skipping J: No data found.\n"
     ]
    },
    {
     "name": "stderr",
     "output_type": "stream",
     "text": [
      "$LEN: possibly delisted; no price data found  (1d 2018-01-01 -> 2025-02-09)\n"
     ]
    },
    {
     "name": "stdout",
     "output_type": "stream",
     "text": [
      "Skipping LEN: No data found.\n"
     ]
    },
    {
     "name": "stderr",
     "output_type": "stream",
     "text": [
      "[*********************100%***********************]  499 of 499 completed\n"
     ]
    },
    {
     "name": "stdout",
     "output_type": "stream",
     "text": [
      "Warning: 'Adj Close' column not found in data. Returning raw data.\n",
      "Price           Close                                                   \\\n",
      "Ticker              A       AAPL       ABBV ABNB        ABT       ACGL   \n",
      "Date                                                                     \n",
      "2018-01-02  64.180229  40.524334  71.669922  NaN  51.776569  27.988113   \n",
      "2018-01-03  65.813225  40.517284  72.791466  NaN  51.891048  28.013470   \n",
      "2018-01-04  65.319519  40.705486  72.376358  NaN  51.802998  28.118069   \n",
      "2018-01-05  66.363876  41.168926  73.636269  NaN  51.952702  28.007132   \n",
      "2018-01-08  66.506310  41.016026  72.456467  NaN  51.802998  28.010302   \n",
      "\n",
      "Price                                                     ...  Volume  \\\n",
      "Ticker             ACN        ADBE        ADI        ADM  ...     WTW   \n",
      "Date                                                      ...           \n",
      "2018-01-02  138.659607  177.699997  79.129066  32.879112  ...  817700   \n",
      "2018-01-03  139.299530  181.039993  80.110710  32.624866  ...  771200   \n",
      "2018-01-04  140.948990  183.220001  80.023079  33.174355  ...  800900   \n",
      "2018-01-05  142.111679  185.339996  80.347336  32.952923  ...  646700   \n",
      "2018-01-08  143.247360  185.039993  80.487579  32.879112  ...  632700   \n",
      "\n",
      "Price                                                                      \\\n",
      "Ticker           WY     WYNN      XEL       XOM     XYL      YUM      ZBH   \n",
      "Date                                                                        \n",
      "2018-01-02  3144000  2581200  2443400  11469300  877800  1747800  1818259   \n",
      "2018-01-03  2922800  3530900  4114900  13957700  778800  2554900  1368664   \n",
      "2018-01-04  2727800  2708800  2807000  10863000  796500  1971200  1105396   \n",
      "2018-01-05  2924800  2186600  3728000  11047600  666800  1927100  1095302   \n",
      "2018-01-08  2760800  1803800  3837600  10927100  554700  1599400  1286985   \n",
      "\n",
      "Price                        \n",
      "Ticker        ZBRA      ZTS  \n",
      "Date                         \n",
      "2018-01-02  310600  2135600  \n",
      "2018-01-03  253000  2328200  \n",
      "2018-01-04  435200  2534000  \n",
      "2018-01-05  301800  2166100  \n",
      "2018-01-08  218600  3631400  \n",
      "\n",
      "[5 rows x 2495 columns]\n"
     ]
    }
   ],
   "source": [
    "# ==========================\n",
    "# Step 1: Data Collection (Live Data Integration)\n",
    "# ==========================\n",
    "\n",
    "def fetch_sp500_tickers():\n",
    "    \"\"\"Fetch S&P 500 tickers from Wikipedia.\"\"\"\n",
    "    url = 'https://en.wikipedia.org/wiki/List_of_S%26P_500_companies'\n",
    "    sp500_table = pd.read_html(url)[0]\n",
    "    return sp500_table[['Symbol', 'GICS Sector']]\n",
    "\n",
    "def clean_tickers(tickers):\n",
    "    \"\"\"Fix tickers with dot notation for Yahoo Finance.\"\"\"\n",
    "    return [t.replace('.', '-') for t in tickers]  # BRK.B → BRK-B\n",
    "\n",
    "def filter_valid_tickers(tickers, start_date, end_date):\n",
    "    \"\"\"Check which tickers have valid data on Yahoo Finance.\"\"\"\n",
    "    valid_tickers = []\n",
    "    for ticker in tickers:\n",
    "        try:\n",
    "            data = yf.Ticker(ticker).history(start=start_date, end=end_date)\n",
    "            if not data.empty:\n",
    "                valid_tickers.append(ticker)\n",
    "            else:\n",
    "                print(f\"Skipping {ticker}: No data found.\")\n",
    "        except Exception as e:\n",
    "            print(f\"Skipping {ticker}: {e}\")\n",
    "    return valid_tickers\n",
    "\n",
    "def fetch_stock_data(tickers, start_date, end_date):\n",
    "    \"\"\"Download stock data for valid tickers.\"\"\"\n",
    "    data = yf.download(tickers, start=start_date, end=end_date)\n",
    "    \n",
    "    # Check if 'Adj Close' exists in the returned data\n",
    "    if 'Adj Close' in data:\n",
    "        return data['Adj Close'].dropna(axis=1)  # Remove columns with NaN\n",
    "    else:\n",
    "        print(\"Warning: 'Adj Close' column not found in data. Returning raw data.\")\n",
    "        return data  # Return the whole DataFrame for debugging\n",
    "\n",
    "# Fetch tickers and clean them\n",
    "sp500_companies = fetch_sp500_tickers()\n",
    "tickers = clean_tickers(sp500_companies['Symbol'].tolist())\n",
    "\n",
    "# Define date range\n",
    "start_date = \"2018-01-01\"\n",
    "end_date = datetime.today().strftime('%Y-%m-%d')\n",
    "\n",
    "# Validate tickers and fetch data\n",
    "valid_tickers = filter_valid_tickers(tickers, start_date, end_date)\n",
    "data = fetch_stock_data(valid_tickers, start_date, end_date)\n",
    "\n",
    "# Display the first few rows\n",
    "print(data.head())\n"
   ]
  },
  {
   "cell_type": "code",
   "execution_count": 5,
   "metadata": {},
   "outputs": [
    {
     "name": "stderr",
     "output_type": "stream",
     "text": [
      "C:\\Users\\bhavy\\AppData\\Local\\Temp\\ipykernel_6104\\3950672875.py:8: FutureWarning: The default fill_method='pad' in DataFrame.pct_change is deprecated and will be removed in a future version. Either fill in any non-leading NA values prior to calling pct_change or specify 'fill_method=None' to not fill NA values.\n",
      "  returns = data.pct_change().dropna()\n"
     ]
    },
    {
     "name": "stdout",
     "output_type": "stream",
     "text": [
      "              mean_return  volatility  cumulative_return  sharpe_ratio  \\\n",
      "Price Ticker                                                             \n",
      "Close A         -0.461323   -0.489201          -0.067621     -0.047252   \n",
      "      AAPL      -0.488133   -0.499602           1.201693     -0.772085   \n",
      "      ABBV      -0.457299   -0.487787           0.082551     -0.036497   \n",
      "      ABT       -0.443102   -0.508513           0.019517      0.721704   \n",
      "      ACGL      -0.487660   -0.486642           0.340338     -0.767860   \n",
      "\n",
      "              sortino_ratio  max_drawdown    var_95      beta  liquidity  \n",
      "Price Ticker                                                              \n",
      "Close A           -0.229715      0.805469  0.505174 -0.469136  -0.115417  \n",
      "      AAPL        -0.741817      0.993460  0.484087 -0.464818  -0.115415  \n",
      "      ABBV        -0.421040      0.700537  0.526798 -0.467043  -0.115417  \n",
      "      ABT          0.235049      1.200175  0.542720 -0.476886  -0.115418  \n",
      "      ACGL        -0.737381      0.310649  0.492774 -0.461966  -0.115422  \n"
     ]
    }
   ],
   "source": [
    "# import numpy as np\n",
    "# import pandas as pd\n",
    "# from sklearn.preprocessing import StandardScaler\n",
    "# ==========================\n",
    "# Step 2: Feature Engineering (Risk, Liquidity & Macro)\n",
    "# ==========================\n",
    "# Compute returns and volatility\n",
    "returns = data.pct_change().dropna()\n",
    "volatility = returns.rolling(window=20).std().dropna()\n",
    "\n",
    "def compute_beta(stock_returns, market_returns):\n",
    "    \"\"\"Calculate Beta for each stock.\"\"\"\n",
    "    if stock_returns.isna().sum() > 0 or market_returns.isna().sum() > 0:\n",
    "        return np.nan  # Handle missing values\n",
    "    \n",
    "    covariance = np.cov(stock_returns.dropna(), market_returns.dropna())[0, 1]\n",
    "    market_variance = np.var(market_returns.dropna())\n",
    "\n",
    "    return covariance / market_variance if market_variance > 0 else np.nan\n",
    "\n",
    "# Approximate S&P 500 market return\n",
    "sp500_returns = returns.mean(axis=1)\n",
    "\n",
    "# Compute feature matrix\n",
    "features = pd.DataFrame({\n",
    "    \"mean_return\": returns.mean() * 252,\n",
    "    \"volatility\": volatility.mean(),\n",
    "    \"cumulative_return\": (data.iloc[-1] / data.iloc[0]) - 1,\n",
    "    \"sharpe_ratio\": returns.mean() / (returns.std() + 1e-8),  # Avoid div-by-zero\n",
    "    \"sortino_ratio\": returns.mean() / (returns[returns < 0].std() + 1e-8),  # Avoid div-by-zero\n",
    "    \"max_drawdown\": (data / data.cummax() - 1).min(),\n",
    "    \"var_95\": returns.quantile(0.05),\n",
    "    \"beta\": [compute_beta(returns[ticker], sp500_returns) for ticker in returns.columns],\n",
    "    \"liquidity\": data.mean(),  # Approximate by average price\n",
    "})\n",
    "\n",
    "# Handle Inf and NaNs before scaling\n",
    "features.replace([np.inf, -np.inf], np.nan, inplace=True)  # Replace Inf with NaN\n",
    "features.dropna(inplace=True)  # Drop rows with NaN values\n",
    "\n",
    "# Standardize features\n",
    "scaler = StandardScaler()\n",
    "scaled_features = scaler.fit_transform(features)\n",
    "\n",
    "# Convert back to DataFrame\n",
    "features_scaled_df = pd.DataFrame(scaled_features, index=features.index, columns=features.columns)\n",
    "\n",
    "# Display first few rows\n",
    "print(features_scaled_df.head())\n"
   ]
  },
  {
   "cell_type": "code",
   "execution_count": 6,
   "metadata": {},
   "outputs": [
    {
     "name": "stdout",
     "output_type": "stream",
     "text": [
      "              mean_return  volatility  cumulative_return  sharpe_ratio  \\\n",
      "Price Ticker                                                             \n",
      "Close A         -0.461323   -0.489201          -0.067621     -0.047252   \n",
      "      AAPL      -0.488133   -0.499602           1.201693     -0.772085   \n",
      "      ABBV      -0.457299   -0.487787           0.082551     -0.036497   \n",
      "      ABT       -0.443102   -0.508513           0.019517      0.721704   \n",
      "      ACGL      -0.487660   -0.486642           0.340338     -0.767860   \n",
      "\n",
      "              sortino_ratio  max_drawdown    var_95      beta  liquidity  \\\n",
      "Price Ticker                                                               \n",
      "Close A           -0.229715      0.805469  0.505174 -0.469136  -0.115417   \n",
      "      AAPL        -0.741817      0.993460  0.484087 -0.464818  -0.115415   \n",
      "      ABBV        -0.421040      0.700537  0.526798 -0.467043  -0.115417   \n",
      "      ABT          0.235049      1.200175  0.542720 -0.476886  -0.115418   \n",
      "      ACGL        -0.737381      0.310649  0.492774 -0.461966  -0.115422   \n",
      "\n",
      "              hierarchical_cluster  gmm_cluster  dbscan_cluster  \n",
      "Price Ticker                                                     \n",
      "Close A                          3            6               0  \n",
      "      AAPL                       2            8               0  \n",
      "      ABBV                       3            2               0  \n",
      "      ABT                        0            2               0  \n",
      "      ACGL                       3            6               0  \n"
     ]
    }
   ],
   "source": [
    "# ==========================\n",
    "# Step 3: Advanced Clustering (Hierarchical + GMM + DBSCAN)\n",
    "# ==========================\n",
    "# Use scaled features for clustering\n",
    "X_scaled = features_scaled_df.copy()\n",
    "\n",
    "# Hierarchical Clustering\n",
    "hierarchical = AgglomerativeClustering(n_clusters=10, linkage='ward')\n",
    "X_scaled['hierarchical_cluster'] = hierarchical.fit_predict(features_scaled_df)\n",
    "\n",
    "# Gaussian Mixture Model (GMM)\n",
    "gmm = GaussianMixture(n_components=10, random_state=42)\n",
    "X_scaled['gmm_cluster'] = gmm.fit_predict(features_scaled_df)\n",
    "\n",
    "# DBSCAN Clustering (Density-based)\n",
    "dbscan = DBSCAN(eps=1.5, min_samples=5)\n",
    "X_scaled['dbscan_cluster'] = dbscan.fit_predict(features_scaled_df)\n",
    "\n",
    "# Save Clustering Data\n",
    "X_scaled.to_csv(\"advanced_clustered_data.csv\")\n",
    "\n",
    "# Display first few rows of results\n",
    "print(X_scaled.head())\n"
   ]
  },
  {
   "cell_type": "code",
   "execution_count": 7,
   "metadata": {},
   "outputs": [],
   "source": [
    "# import numpy as np\n",
    "# from scipy.optimize import minimize\n",
    "\n",
    "\n",
    "# ==========================\n",
    "# Step 4: Portfolio Optimization (Mean-Variance)\n",
    "# ==========================\n",
    "\n",
    "def portfolio_performance(weights, returns):\n",
    "    \"\"\"Calculate portfolio return, volatility, and Sharpe ratio.\"\"\"\n",
    "    portfolio_return = np.sum(weights * returns.mean()) * 252\n",
    "    portfolio_volatility = np.sqrt(np.dot(weights.T, np.dot(returns.cov() * 252, weights)))\n",
    "    \n",
    "    # Avoid division by zero\n",
    "    sharpe_ratio = portfolio_return / portfolio_volatility if portfolio_volatility > 0 else 0\n",
    "    return portfolio_return, portfolio_volatility, sharpe_ratio\n",
    "\n"
   ]
  },
  {
   "cell_type": "code",
   "execution_count": 8,
   "metadata": {},
   "outputs": [],
   "source": [
    "def minimize_sharpe(weights, returns):\n",
    "    \"\"\"Objective function to minimize negative Sharpe ratio.\"\"\"\n",
    "    return -portfolio_performance(weights, returns)[2]  # Minimize negative Sharpe\n",
    "\n"
   ]
  },
  {
   "cell_type": "code",
   "execution_count": 9,
   "metadata": {},
   "outputs": [],
   "source": [
    "def optimize_portfolio(returns):\n",
    "    \"\"\"Optimize portfolio allocation using Mean-Variance optimization.\"\"\"\n",
    "    returns = returns.dropna(axis=1)  # Ensure valid returns data\n",
    "\n",
    "    num_assets = len(returns.columns)\n",
    "    initial_weights = np.ones(num_assets) / num_assets\n",
    "    bounds = [(0, 1) for _ in range(num_assets)]  # Weight constraints (0 to 1)\n",
    "    constraints = {'type': 'eq', 'fun': lambda w: np.sum(w) - 1}  # Sum of weights must be 1\n",
    "\n",
    "    optimized = minimize(minimize_sharpe, initial_weights, args=(returns,), \n",
    "                         method='SLSQP', bounds=bounds, constraints=constraints)\n",
    "    \n",
    "    return optimized.x if optimized.success else None  # Return weights if optimization is successful\n",
    "\n"
   ]
  },
  {
   "cell_type": "code",
   "execution_count": 10,
   "metadata": {},
   "outputs": [],
   "source": [
    "# Select the cluster (Change as needed)\n",
    "selected_cluster = 0\n",
    "\n",
    "# Get all stocks in the selected cluster\n",
    "selected_stocks = X_scaled[X_scaled['hierarchical_cluster'] == selected_cluster].index\n",
    "cluster_returns = returns[selected_stocks]  # Get returns for these stocks\n",
    "\n",
    "# Compute Sharpe Ratio for ranking (Higher is better)\n",
    "sharpe_ratios = (cluster_returns.mean() * 252) / (cluster_returns.std() + 1e-8)  # Avoid div-by-zero\n",
    "\n",
    "# Select Top N Stocks (Changeable Parameter for Scalability)\n",
    "top_n = 100  # Adjust this to change the number of optimized stocks\n",
    "top_stocks = sharpe_ratios.nlargest(top_n).index  # Get top N stocks\n",
    "\n",
    "# Use only the top stocks for portfolio optimization\n",
    "filtered_returns = cluster_returns[top_stocks]\n"
   ]
  },
  {
   "cell_type": "code",
   "execution_count": 12,
   "metadata": {},
   "outputs": [
    {
     "name": "stdout",
     "output_type": "stream",
     "text": [
      "Number of stocks in Cluster 0: 694\n",
      "Number of stocks with valid return data: 694\n",
      "148\n"
     ]
    }
   ],
   "source": [
    "print(f\"Number of stocks in Cluster {selected_cluster}: {len(selected_stocks)}\")\n",
    "print(f\"Number of stocks with valid return data: {cluster_returns.shape[1]}\")\n",
    "print(len(filtered_returns))"
   ]
  },
  {
   "cell_type": "code",
   "execution_count": 13,
   "metadata": {},
   "outputs": [],
   "source": [
    "# Optimize portfolio using only the top N selected stocks\n",
    "optimized_weights = optimize_portfolio(filtered_returns)\n"
   ]
  },
  {
   "cell_type": "code",
   "execution_count": 14,
   "metadata": {},
   "outputs": [
    {
     "name": "stdout",
     "output_type": "stream",
     "text": [
      "Optimized Portfolio Allocation:\n",
      "Price  Ticker\n",
      "High   FI        0.000000e+00\n",
      "Low    LYV       0.000000e+00\n",
      "High   NI        3.090954e-02\n",
      "       WMT       1.259779e-02\n",
      "Low    WMT       9.923923e-14\n",
      "                     ...     \n",
      "Open   CPAY      8.832572e-13\n",
      "Low    TMUS      2.211718e-12\n",
      "Close  TRGP      5.035333e-13\n",
      "Low    GL        0.000000e+00\n",
      "Open   GL        1.068220e-12\n",
      "Length: 100, dtype: float64\n"
     ]
    }
   ],
   "source": [
    "# Display optimized portfolio weights for the selected top N stocks\n",
    "portfolio_allocation = pd.Series(optimized_weights, index=filtered_returns.columns)\n",
    "print(\"Optimized Portfolio Allocation:\")\n",
    "print(portfolio_allocation)\n"
   ]
  },
  {
   "cell_type": "code",
   "execution_count": 17,
   "metadata": {},
   "outputs": [
    {
     "data": {
      "image/png": "[encoded data removed]",
      "text/plain": [
       "<Figure size 1200x600 with 1 Axes>"
      ]
     },
     "metadata": {},
     "output_type": "display_data"
    }
   ],
   "source": [
    "# Ensure clustering results exist\n",
    "if 'hierarchical_cluster' not in X_scaled.columns:\n",
    "    raise ValueError(\"Clustering results not found. Run Step 3 before visualization.\")\n",
    "\n",
    "# ==========================\n",
    "# Dendrogram (Hierarchical Clustering for Filtered Stocks)\n",
    "# ==========================\n",
    "\n",
    "# Limit features_scaled_df to only filtered stocks\n",
    "filtered_features_scaled_df = features_scaled_df.loc[filtered_returns.columns]\n",
    "\n",
    "plt.figure(figsize=(12, 6))\n",
    "dendrogram(linkage(filtered_features_scaled_df, method='ward'))\n",
    "plt.title(\"Hierarchical Clustering Dendrogram (Filtered Stocks)\")\n",
    "plt.xlabel(\"Stocks\")\n",
    "plt.ylabel(\"Distance\")\n",
    "plt.show()\n"
   ]
  },
  {
   "cell_type": "code",
   "execution_count": 25,
   "metadata": {},
   "outputs": [
    {
     "name": "stdout",
     "output_type": "stream",
     "text": [
      "⚠ Warning: `filtered_returns.index` contains dates. Using `.columns` instead.\n",
      "✅ Stocks in filtered_returns: 100\n",
      "✅ Stocks in X_scaled before filtering: 2399\n",
      "✅ Stocks in X_scaled after filtering: 100\n",
      "✅ Column types before t-SNE:\n",
      "Price                 object\n",
      "Ticker                object\n",
      "mean_return          float64\n",
      "volatility           float64\n",
      "cumulative_return    float64\n",
      "sharpe_ratio         float64\n",
      "sortino_ratio        float64\n",
      "max_drawdown         float64\n",
      "var_95               float64\n",
      "beta                 float64\n",
      "liquidity            float64\n",
      "dtype: object\n",
      "✅ Columns used for t-SNE: ['mean_return', 'volatility', 'cumulative_return', 'sharpe_ratio', 'sortino_ratio', 'max_drawdown', 'var_95', 'beta', 'liquidity']\n"
     ]
    }
   ],
   "source": [
    "# ==========================\n",
    "# t-SNE Visualization (Only for Selected Portfolio Stocks)\n",
    "# ==========================\n",
    "from sklearn.manifold import TSNE\n",
    "import plotly.express as px\n",
    "\n",
    "# ==========================\n",
    "# Step 1: Ensure `filtered_returns` Uses Stock Names Instead of Dates\n",
    "# ==========================\n",
    "if isinstance(filtered_returns.index[0], pd.Timestamp):\n",
    "    print(\"⚠ Warning: `filtered_returns.index` contains dates. Using `.columns` instead.\")\n",
    "    filtered_stocks = list(filtered_returns.columns)  # Use stock tickers\n",
    "else:\n",
    "    filtered_stocks = list(filtered_returns.index)  # Use index if it's stock names\n",
    "\n",
    "# Debugging: Print stock counts before filtering\n",
    "print(f\"✅ Stocks in filtered_returns: {len(filtered_stocks)}\")\n",
    "print(f\"✅ Stocks in X_scaled before filtering: {X_scaled.shape[0]}\")\n",
    "\n",
    "# ==========================\n",
    "# Step 2: Filter `X_scaled` to Include Only Selected Portfolio Stocks\n",
    "# ==========================\n",
    "X_scaled_filtered = X_scaled.loc[filtered_stocks].reset_index()\n",
    "\n",
    "# Debugging: Print stock count after filtering\n",
    "print(f\"✅ Stocks in X_scaled after filtering: {X_scaled_filtered.shape[0]}\")\n",
    "\n",
    "# ==========================\n",
    "# Step 3: Ensure Only Numeric Data is Passed to t-SNE\n",
    "# ==========================\n",
    "# Print column data types for debugging\n",
    "print(\"✅ Column types before t-SNE:\")\n",
    "print(X_scaled_filtered.dtypes)\n",
    "\n",
    "# Drop non-numeric columns (e.g., Stock Names, Categorical Data)\n",
    "X_scaled_numeric = X_scaled_filtered.select_dtypes(include=[np.number])\n",
    "\n",
    "# Debugging: Print remaining numeric columns\n",
    "print(f\"✅ Columns used for t-SNE: {list(X_scaled_numeric.columns)}\")\n",
    "\n",
    "# ==========================\n",
    "# Step 4: Apply t-SNE (Only If Enough Stocks Exist)\n",
    "# ==========================\n",
    "n_samples = X_scaled_numeric.shape[0]\n",
    "\n",
    "if n_samples > 2:  # t-SNE requires at least 2 samples\n",
    "    perplexity_value = min(30, max(2, n_samples - 1))  # Ensure valid perplexity\n",
    "\n",
    "    tsne = TSNE(n_components=2, perplexity=perplexity_value, learning_rate='auto', random_state=42)\n",
    "    tsne_results = tsne.fit_transform(X_scaled_numeric)  # Use only numeric columns\n",
    "\n",
    "    # Add t-SNE results to the DataFrame\n",
    "    X_scaled_filtered['tsne_1'] = tsne_results[:, 0]\n",
    "    X_scaled_filtered['tsne_2'] = tsne_results[:, 1]\n",
    "\n",
    "    # ==========================\n",
    "    # Step 5: Interactive Scatter Plot (Filtered Stocks Only)\n",
    "    # ==========================\n",
    "    fig = px.scatter(X_scaled_filtered, x='tsne_1', y='tsne_2', \n",
    "                     color=X_scaled_filtered['hierarchical_cluster'].astype(str) if 'hierarchical_cluster' in X_scaled_filtered.columns else None, \n",
    "                     title=\"t-SNE Visualization of Selected Portfolio Stocks\", \n",
    "                     hover_name=\"Ticker\")  # Fix: Replace \"Stock\" with \"Ticker\"\n",
    "\n",
    "    # Show the plot\n",
    "    fig.show(renderer=\"browser\")\n",
    "\n",
    "else:\n",
    "    print(f\"⚠ Not enough samples for t-SNE. Only {n_samples} stocks selected.\")\n"
   ]
  },
  {
   "cell_type": "code",
   "execution_count": 30,
   "metadata": {},
   "outputs": [
    {
     "data": {
      "image/png": "[encoded data removed]",
      "text/plain": [
       "<Figure size 1000x600 with 1 Axes>"
      ]
     },
     "metadata": {},
     "output_type": "display_data"
    }
   ],
   "source": [
    "# ==========================\n",
    "# Portfolio Allocation Visualization\n",
    "# ==========================\n",
    "import matplotlib.pyplot as plt\n",
    "import seaborn as sns\n",
    "import pandas as pd\n",
    "\n",
    "# Ensure `optimized_weights` exist\n",
    "if optimized_weights is not None:\n",
    "    # Convert MultiIndex to a flat index (if needed)\n",
    "    stock_names = [col[0] if isinstance(col, tuple) else col for col in filtered_returns.columns]  # Updated\n",
    "\n",
    "    # Create allocation DataFrame\n",
    "    allocation_df = pd.DataFrame({'Stock': stock_names, 'Weight': optimized_weights})\n",
    "    allocation_df = allocation_df.sort_values(by='Weight', ascending=False)\n",
    "\n",
    "    # Plot the allocation\n",
    "    plt.figure(figsize=(10, 6))\n",
    "    # sns.barplot(x='Weight', y='Stock', data=allocation_df, palette=\"coolwarm\")\n",
    "    sns.barplot(x='Weight', y='Stock', data=allocation_df, hue='Stock', palette=\"coolwarm\", legend=False)\n",
    "\n",
    "    plt.title(\"Optimized Portfolio Allocation\")\n",
    "    plt.xlabel(\"Allocation Weight\")\n",
    "    plt.ylabel(\"Stock\")\n",
    "    plt.show()\n",
    "\n",
    "else:\n",
    "    print(\"Portfolio optimization failed. No visualization available.\")\n"
   ]
  },
  {
   "cell_type": "code",
   "execution_count": 28,
   "metadata": {},
   "outputs": [
    {
     "name": "stdout",
     "output_type": "stream",
     "text": [
      "✅ Stock Name, Price & Weight saved to optimized_portfolio_simple.csv\n"
     ]
    }
   ],
   "source": [
    "# ==========================\n",
    "# Save Stock Name, Price & Weight to CSV\n",
    "# ==========================\n",
    "import pandas as pd\n",
    "\n",
    "# Ensure `optimized_weights` exist before proceeding\n",
    "if optimized_weights is not None:\n",
    "    # Convert MultiIndex to a flat index (if needed)\n",
    "    stock_names = [col[0] if isinstance(col, tuple) else col for col in filtered_returns.columns]  \n",
    "\n",
    "    # Create DataFrame with stock allocation\n",
    "    allocation_df = pd.DataFrame({\n",
    "        'Stock': stock_names,\n",
    "        'Weight': optimized_weights\n",
    "    })\n",
    "\n",
    "    # Merge with stock prices from X_scaled_filtered\n",
    "    stock_prices = X_scaled_filtered[['Ticker', 'Price']].set_index(\"Ticker\")  # Ensure \"Ticker\" and \"Price\" exist\n",
    "    final_df = allocation_df.merge(stock_prices, left_on=\"Stock\", right_index=True, how=\"left\")\n",
    "\n",
    "    # Save to CSV\n",
    "    csv_filename = \"optimized_portfolio_simple.csv\"\n",
    "    final_df.to_csv(csv_filename, index=False)\n",
    "\n",
    "    print(f\"✅ Stock Name, Price & Weight saved to {csv_filename}\")\n",
    "\n",
    "else:\n",
    "    print(\"❌ Portfolio optimization failed. No CSV file was created.\")\n"
   ]
  },
  {
   "cell_type": "code",
   "execution_count": 29,
   "metadata": {},
   "outputs": [
    {
     "name": "stdout",
     "output_type": "stream",
     "text": [
      "✅ Filtered Stocks for Optimization:\n",
      "('High', 'FI')\n",
      "('Low', 'LYV')\n",
      "('High', 'NI')\n",
      "('High', 'WMT')\n",
      "('Low', 'WMT')\n",
      "('Low', 'FI')\n",
      "('Open', 'FI')\n",
      "('Low', 'UAL')\n",
      "('High', 'LYV')\n",
      "('Low', 'BK')\n",
      "('Close', 'WMT')\n",
      "('High', 'AEE')\n",
      "('Low', 'ADP')\n",
      "('Low', 'AEE')\n",
      "('Low', 'FFIV')\n",
      "('Low', 'NI')\n",
      "('Close', 'LYV')\n",
      "('Low', 'GILD')\n",
      "('Close', 'UAL')\n",
      "('Close', 'FI')\n",
      "('Open', 'WMT')\n",
      "('High', 'CME')\n",
      "('High', 'BK')\n",
      "('Open', 'LYV')\n",
      "('High', 'UAL')\n",
      "('High', 'NDAQ')\n",
      "('Open', 'GILD')\n",
      "('High', 'BSX')\n",
      "('Low', 'CBRE')\n",
      "('Low', 'TPR')\n",
      "('Close', 'GL')\n",
      "('Low', 'WELL')\n",
      "('Open', 'CBRE')\n",
      "('Open', 'BK')\n",
      "('Open', 'AEE')\n",
      "('High', 'ADP')\n",
      "('Close', 'AEE')\n",
      "('Close', 'ADP')\n",
      "('Low', 'PM')\n",
      "('Close', 'BK')\n",
      "('Close', 'BSX')\n",
      "('Close', 'FFIV')\n",
      "('Close', 'NI')\n",
      "('Open', 'UAL')\n",
      "('Low', 'WEC')\n",
      "('Open', 'NI')\n",
      "('High', 'WELL')\n",
      "('High', 'GDDY')\n",
      "('Low', 'EVRG')\n",
      "('High', 'GILD')\n",
      "('High', 'CBRE')\n",
      "('Open', 'ADP')\n",
      "('Low', 'GDDY')\n",
      "('High', 'WEC')\n",
      "('Open', 'NDAQ')\n",
      "('Close', 'TPR')\n",
      "('Close', 'GILD')\n",
      "('Low', 'K')\n",
      "('Low', 'CSCO')\n",
      "('Close', 'WEC')\n",
      "('High', 'FFIV')\n",
      "('High', 'TRGP')\n",
      "('High', 'EVRG')\n",
      "('Open', 'FFIV')\n",
      "('Close', 'CBRE')\n",
      "('Close', 'NDAQ')\n",
      "('Low', 'CME')\n",
      "('High', 'GL')\n",
      "('Close', 'CME')\n",
      "('Open', 'GDDY')\n",
      "('Low', 'NDAQ')\n",
      "('Low', 'ATO')\n",
      "('High', 'TPR')\n",
      "('Open', 'TPR')\n",
      "('High', 'PPL')\n",
      "('Low', 'V')\n",
      "('Close', 'WELL')\n",
      "('Close', 'CSCO')\n",
      "('Low', 'PPL')\n",
      "('Open', 'CSCO')\n",
      "('High', 'TMUS')\n",
      "('Low', 'TDY')\n",
      "('Close', 'EVRG')\n",
      "('High', 'CSCO')\n",
      "('High', 'WAB')\n",
      "('Low', 'T')\n",
      "('Open', 'BSX')\n",
      "('Low', 'IBM')\n",
      "('Open', 'WELL')\n",
      "('High', 'V')\n",
      "('Low', 'AON')\n",
      "('Open', 'IBM')\n",
      "('Open', 'PM')\n",
      "('Low', 'BSX')\n",
      "('Close', 'K')\n",
      "('Open', 'CPAY')\n",
      "('Low', 'TMUS')\n",
      "('Close', 'TRGP')\n",
      "('Low', 'GL')\n",
      "('Open', 'GL')\n"
     ]
    }
   ],
   "source": [
    "# ==========================\n",
    "# Print Filtered Stock Names\n",
    "# ==========================\n",
    "\n",
    "# Ensure that `filtered_returns` contains the selected stocks\n",
    "filtered_stocks = list(filtered_returns.columns)  # Extract stock names\n",
    "\n",
    "# Print the list of filtered stocks\n",
    "print(\"✅ Filtered Stocks for Optimization:\")\n",
    "for stock in filtered_stocks:\n",
    "    print(stock)\n"
   ]
  }
 ],
 "metadata": {
  "kernelspec": {
   "display_name": "Python 3",
   "language": "python",
   "name": "python3"
  },
  "language_info": {
   "codemirror_mode": {
    "name": "ipython",
    "version": 3
   },
   "file_extension": ".py",
   "mimetype": "text/x-python",
   "name": "python",
   "nbconvert_exporter": "python",
   "pygments_lexer": "ipython3",
   "version": "3.9.21"
  }
 },
 "nbformat": 4,
 "nbformat_minor": 2
}
